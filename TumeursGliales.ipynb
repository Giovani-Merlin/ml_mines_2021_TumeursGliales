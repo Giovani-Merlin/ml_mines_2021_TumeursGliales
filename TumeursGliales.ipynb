{
 "cells": [
  {
   "cell_type": "markdown",
   "id": "9a508092-0ed2-411d-a7f9-d32060ba24c9",
   "metadata": {},
   "source": [
    "# Mini-projet : Classification de tumeurs gliales"
   ]
  },
  {
   "cell_type": "markdown",
   "id": "b1ef50ae-8bbf-4da4-ae72-8f38881318ea",
   "metadata": {},
   "source": [
    "Les _gliomes_ ou _tumeurs gliales_ sont des tumeurs du glie, le tissu de soutien neuronal du cerveau. Elles sont classifiées en 4 grades anatomo-pathologiques, dont dépend la prise en charge."
   ]
  },
  {
   "cell_type": "markdown",
   "id": "cf9571f5-f28c-4604-8496-a5b422f62d7b",
   "metadata": {},
   "source": [
    "Dans ce jeu de données, chaque observation est un gliome, décrit par l'expression de 4 434 gènes. L'expression d'un gène est une mesure de la quantité d'ARN correspondant à ce gène qui est présente dans la cellule. Schématiquement, l'ADN est transcrit en ARN, lequel est lui-même traduit en une protéine. Les protéines assurent une multitude de fonctions du vivant, mais mesurer leur quantité est difficile ; d'où l'intérêt d'utiliser les quantités d'ARN, bien que la correspondance ne soit pas immédiate. \n",
    "\n",
    "Chaque gliome de notre jeu de données est étiquetée en fonction de son grade. \n",
    "\n",
    "Le but de ce projet est de construire un classifieur qui détermine, sur la base de l'expression de ces 4 434 gènes, le grade d'un gliome."
   ]
  },
  {
   "cell_type": "markdown",
   "id": "d1970b2b-d686-4531-b771-6a5fd2d47ad2",
   "metadata": {},
   "source": [
    "## Instructions\n",
    "1. Comparez les performances d'au moins deux algorithmes d'apprentissage sur ce problème de classification.\n",
    "\n",
    "__Attention :__\n",
    "* au _data leakage_ (ne pas utiliser les données sur lesquelles on évalue les modèles pour les entraîner ou prétraiter les données)\n",
    "* à la taille du jeu de données\n",
    "* au nombre de classes\n",
    "* à choisir une mesure de performance appropriée (justifiez votre choix)\n",
    "2. Identifiez, quand cela est possible, les gènes les plus importants pour les modèles que vous avez entraînés. S'agit-il des mêmes gènes\n",
    "* entre deux modèles obtenus grâce à un algorithme d'apprentissage différents ?\n",
    "* entre deux modèles obtenus en utilisant le même algorithme d'apprentissage sur des sous-échantillons différents des données ?\n",
    "\n",
    "N'oubliez pas de commenter et interpréter vos résultats."
   ]
  },
  {
   "cell_type": "markdown",
   "id": "e6274ace-a84a-4830-9872-92dfd3e54ede",
   "metadata": {},
   "source": [
    "## Chargement des données"
   ]
  },
  {
   "cell_type": "code",
   "execution_count": 8,
   "id": "f9d5f7c1-54a5-4772-9b7d-8799ea4c6fb7",
   "metadata": {},
   "outputs": [],
   "source": [
    "import scipy.io\n",
    "data_matrix = scipy.io.loadmat(\"gliome.mat\")"
   ]
  },
  {
   "cell_type": "code",
   "execution_count": 4,
   "id": "9dcb2008-d59a-4e35-a12d-ae7017f4c427",
   "metadata": {},
   "outputs": [
    {
     "name": "stdout",
     "output_type": "stream",
     "text": [
      "(50, 4434)\n"
     ]
    }
   ],
   "source": [
    "X = data_matrix['X']\n",
    "print(X.shape)"
   ]
  },
  {
   "cell_type": "code",
   "execution_count": 9,
   "id": "30f163fb-bb27-421e-a221-69d84791f721",
   "metadata": {},
   "outputs": [
    {
     "name": "stdout",
     "output_type": "stream",
     "text": [
      "(50,)\n"
     ]
    }
   ],
   "source": [
    "y = data_matrix['Y'][:, 0] \n",
    "print(y.shape)\n",
    "random_state = 42"
   ]
  },
  {
   "cell_type": "code",
   "execution_count": 10,
   "metadata": {},
   "outputs": [],
   "source": [
    "from sklearn.model_selection import train_test_split\n",
    "from sklearn.decomposition import PCA\n",
    "from sklearn.preprocessing import StandardScaler\n",
    "from sklearn.model_selection import StratifiedKFold, GridSearchCV\n",
    "\n",
    "X_std = StandardScaler().fit_transform(X)\n",
    "\n",
    "X_train, X_test, y_train, y_test = train_test_split(X_std, y, test_size=0.2, random_state=random_state)"
   ]
  },
  {
   "cell_type": "markdown",
   "metadata": {},
   "source": [
    "* Obs, j'ai pas des connaissances de médicine mais les idées ici presentées peut-être modifiés facilement en aient un spécialiste en médecine.\n",
    "On va utiliser la metric \"accuracy\" parce que nos données sont bien stratifiés, c'est-à-dire, on a la même quantidate de classes pour chaque classe y_i.\n",
    "Cependant, on peut penser que la précision de la classe 4 est plus importante que la précision de la classe 1, parce que la classe 4 démande un chirurgie et on ne veut pas faire des opérations sans que cela soit nécessaire. D'autre, le recall de classe 1 est très importante aussi, parce que si on découvre le gliome à sont débout alors on peut le traiter et ênpecher son agravément. Donc on pourrait utiliser la métrique (Precision_1 + Recall_4) / 2."
   ]
  },
  {
   "cell_type": "code",
   "execution_count": 29,
   "metadata": {},
   "outputs": [
    {
     "name": "stderr",
     "output_type": "stream",
     "text": [
      "/home/giovani/Desktop/aula/machine learning/projet/venv/lib/python3.7/site-packages/sklearn/linear_model/_sag.py:354: ConvergenceWarning: The max_iter was reached which means the coef_ did not converge\n",
      "  ConvergenceWarning,\n",
      "/home/giovani/Desktop/aula/machine learning/projet/venv/lib/python3.7/site-packages/sklearn/linear_model/_sag.py:354: ConvergenceWarning: The max_iter was reached which means the coef_ did not converge\n",
      "  ConvergenceWarning,\n",
      "/home/giovani/Desktop/aula/machine learning/projet/venv/lib/python3.7/site-packages/sklearn/linear_model/_sag.py:354: ConvergenceWarning: The max_iter was reached which means the coef_ did not converge\n",
      "  ConvergenceWarning,\n",
      "/home/giovani/Desktop/aula/machine learning/projet/venv/lib/python3.7/site-packages/sklearn/linear_model/_sag.py:354: ConvergenceWarning: The max_iter was reached which means the coef_ did not converge\n",
      "  ConvergenceWarning,\n",
      "/home/giovani/Desktop/aula/machine learning/projet/venv/lib/python3.7/site-packages/sklearn/linear_model/_sag.py:354: ConvergenceWarning: The max_iter was reached which means the coef_ did not converge\n",
      "  ConvergenceWarning,\n"
     ]
    },
    {
     "name": "stdout",
     "output_type": "stream",
     "text": [
      "LR-l1-saga-0.1: 0.525000 (0.305845) - 0.731667 (0.183969)\n"
     ]
    },
    {
     "name": "stderr",
     "output_type": "stream",
     "text": [
      "/home/giovani/Desktop/aula/machine learning/projet/venv/lib/python3.7/site-packages/sklearn/linear_model/_sag.py:354: ConvergenceWarning: The max_iter was reached which means the coef_ did not converge\n",
      "  ConvergenceWarning,\n",
      "/home/giovani/Desktop/aula/machine learning/projet/venv/lib/python3.7/site-packages/sklearn/linear_model/_sag.py:354: ConvergenceWarning: The max_iter was reached which means the coef_ did not converge\n",
      "  ConvergenceWarning,\n",
      "/home/giovani/Desktop/aula/machine learning/projet/venv/lib/python3.7/site-packages/sklearn/linear_model/_sag.py:354: ConvergenceWarning: The max_iter was reached which means the coef_ did not converge\n",
      "  ConvergenceWarning,\n",
      "/home/giovani/Desktop/aula/machine learning/projet/venv/lib/python3.7/site-packages/sklearn/linear_model/_sag.py:354: ConvergenceWarning: The max_iter was reached which means the coef_ did not converge\n",
      "  ConvergenceWarning,\n",
      "/home/giovani/Desktop/aula/machine learning/projet/venv/lib/python3.7/site-packages/sklearn/linear_model/_sag.py:354: ConvergenceWarning: The max_iter was reached which means the coef_ did not converge\n",
      "  ConvergenceWarning,\n"
     ]
    },
    {
     "name": "stdout",
     "output_type": "stream",
     "text": [
      "LR-l1-saga-0.5: 0.700000 (0.411775) - 0.741667 (0.171594)\n"
     ]
    },
    {
     "name": "stderr",
     "output_type": "stream",
     "text": [
      "/home/giovani/Desktop/aula/machine learning/projet/venv/lib/python3.7/site-packages/sklearn/linear_model/_sag.py:354: ConvergenceWarning: The max_iter was reached which means the coef_ did not converge\n",
      "  ConvergenceWarning,\n",
      "/home/giovani/Desktop/aula/machine learning/projet/venv/lib/python3.7/site-packages/sklearn/linear_model/_sag.py:354: ConvergenceWarning: The max_iter was reached which means the coef_ did not converge\n",
      "  ConvergenceWarning,\n",
      "/home/giovani/Desktop/aula/machine learning/projet/venv/lib/python3.7/site-packages/sklearn/linear_model/_sag.py:354: ConvergenceWarning: The max_iter was reached which means the coef_ did not converge\n",
      "  ConvergenceWarning,\n",
      "/home/giovani/Desktop/aula/machine learning/projet/venv/lib/python3.7/site-packages/sklearn/linear_model/_sag.py:354: ConvergenceWarning: The max_iter was reached which means the coef_ did not converge\n",
      "  ConvergenceWarning,\n",
      "/home/giovani/Desktop/aula/machine learning/projet/venv/lib/python3.7/site-packages/sklearn/linear_model/_sag.py:354: ConvergenceWarning: The max_iter was reached which means the coef_ did not converge\n",
      "  ConvergenceWarning,\n"
     ]
    },
    {
     "name": "stdout",
     "output_type": "stream",
     "text": [
      "LR-l1-saga-1: 0.725000 (0.428616) - 0.825000 (0.217945)\n"
     ]
    },
    {
     "name": "stderr",
     "output_type": "stream",
     "text": [
      "/home/giovani/Desktop/aula/machine learning/projet/venv/lib/python3.7/site-packages/sklearn/linear_model/_sag.py:354: ConvergenceWarning: The max_iter was reached which means the coef_ did not converge\n",
      "  ConvergenceWarning,\n",
      "/home/giovani/Desktop/aula/machine learning/projet/venv/lib/python3.7/site-packages/sklearn/linear_model/_sag.py:354: ConvergenceWarning: The max_iter was reached which means the coef_ did not converge\n",
      "  ConvergenceWarning,\n",
      "/home/giovani/Desktop/aula/machine learning/projet/venv/lib/python3.7/site-packages/sklearn/linear_model/_sag.py:354: ConvergenceWarning: The max_iter was reached which means the coef_ did not converge\n",
      "  ConvergenceWarning,\n",
      "/home/giovani/Desktop/aula/machine learning/projet/venv/lib/python3.7/site-packages/sklearn/linear_model/_sag.py:354: ConvergenceWarning: The max_iter was reached which means the coef_ did not converge\n",
      "  ConvergenceWarning,\n",
      "/home/giovani/Desktop/aula/machine learning/projet/venv/lib/python3.7/site-packages/sklearn/linear_model/_sag.py:354: ConvergenceWarning: The max_iter was reached which means the coef_ did not converge\n",
      "  ConvergenceWarning,\n"
     ]
    },
    {
     "name": "stdout",
     "output_type": "stream",
     "text": [
      "LR-l1-saga-5: 0.775000 (0.407224) - 0.858333 (0.174005)\n"
     ]
    },
    {
     "name": "stderr",
     "output_type": "stream",
     "text": [
      "/home/giovani/Desktop/aula/machine learning/projet/venv/lib/python3.7/site-packages/sklearn/linear_model/_sag.py:354: ConvergenceWarning: The max_iter was reached which means the coef_ did not converge\n",
      "  ConvergenceWarning,\n",
      "/home/giovani/Desktop/aula/machine learning/projet/venv/lib/python3.7/site-packages/sklearn/linear_model/_sag.py:354: ConvergenceWarning: The max_iter was reached which means the coef_ did not converge\n",
      "  ConvergenceWarning,\n",
      "/home/giovani/Desktop/aula/machine learning/projet/venv/lib/python3.7/site-packages/sklearn/linear_model/_sag.py:354: ConvergenceWarning: The max_iter was reached which means the coef_ did not converge\n",
      "  ConvergenceWarning,\n",
      "/home/giovani/Desktop/aula/machine learning/projet/venv/lib/python3.7/site-packages/sklearn/linear_model/_sag.py:354: ConvergenceWarning: The max_iter was reached which means the coef_ did not converge\n",
      "  ConvergenceWarning,\n",
      "/home/giovani/Desktop/aula/machine learning/projet/venv/lib/python3.7/site-packages/sklearn/linear_model/_sag.py:354: ConvergenceWarning: The max_iter was reached which means the coef_ did not converge\n",
      "  ConvergenceWarning,\n"
     ]
    },
    {
     "name": "stdout",
     "output_type": "stream",
     "text": [
      "LR-l1-saga-10: 0.775000 (0.407224) - 0.858333 (0.174005)\n"
     ]
    },
    {
     "name": "stderr",
     "output_type": "stream",
     "text": [
      "/home/giovani/Desktop/aula/machine learning/projet/venv/lib/python3.7/site-packages/sklearn/linear_model/_sag.py:354: ConvergenceWarning: The max_iter was reached which means the coef_ did not converge\n",
      "  ConvergenceWarning,\n",
      "/home/giovani/Desktop/aula/machine learning/projet/venv/lib/python3.7/site-packages/sklearn/linear_model/_sag.py:354: ConvergenceWarning: The max_iter was reached which means the coef_ did not converge\n",
      "  ConvergenceWarning,\n",
      "/home/giovani/Desktop/aula/machine learning/projet/venv/lib/python3.7/site-packages/sklearn/linear_model/_sag.py:354: ConvergenceWarning: The max_iter was reached which means the coef_ did not converge\n",
      "  ConvergenceWarning,\n",
      "/home/giovani/Desktop/aula/machine learning/projet/venv/lib/python3.7/site-packages/sklearn/linear_model/_sag.py:354: ConvergenceWarning: The max_iter was reached which means the coef_ did not converge\n",
      "  ConvergenceWarning,\n",
      "/home/giovani/Desktop/aula/machine learning/projet/venv/lib/python3.7/site-packages/sklearn/linear_model/_sag.py:354: ConvergenceWarning: The max_iter was reached which means the coef_ did not converge\n",
      "  ConvergenceWarning,\n"
     ]
    },
    {
     "name": "stdout",
     "output_type": "stream",
     "text": [
      "LR-l1-saga-50: 0.775000 (0.407224) - 0.858333 (0.174005)\n"
     ]
    },
    {
     "name": "stderr",
     "output_type": "stream",
     "text": [
      "/home/giovani/Desktop/aula/machine learning/projet/venv/lib/python3.7/site-packages/sklearn/linear_model/_sag.py:354: ConvergenceWarning: The max_iter was reached which means the coef_ did not converge\n",
      "  ConvergenceWarning,\n",
      "/home/giovani/Desktop/aula/machine learning/projet/venv/lib/python3.7/site-packages/sklearn/linear_model/_sag.py:354: ConvergenceWarning: The max_iter was reached which means the coef_ did not converge\n",
      "  ConvergenceWarning,\n",
      "/home/giovani/Desktop/aula/machine learning/projet/venv/lib/python3.7/site-packages/sklearn/linear_model/_sag.py:354: ConvergenceWarning: The max_iter was reached which means the coef_ did not converge\n",
      "  ConvergenceWarning,\n",
      "/home/giovani/Desktop/aula/machine learning/projet/venv/lib/python3.7/site-packages/sklearn/linear_model/_sag.py:354: ConvergenceWarning: The max_iter was reached which means the coef_ did not converge\n",
      "  ConvergenceWarning,\n",
      "/home/giovani/Desktop/aula/machine learning/projet/venv/lib/python3.7/site-packages/sklearn/linear_model/_sag.py:354: ConvergenceWarning: The max_iter was reached which means the coef_ did not converge\n",
      "  ConvergenceWarning,\n"
     ]
    },
    {
     "name": "stdout",
     "output_type": "stream",
     "text": [
      "LR-l1-saga-100: 0.775000 (0.407224) - 0.858333 (0.174005)\n"
     ]
    },
    {
     "name": "stderr",
     "output_type": "stream",
     "text": [
      "/home/giovani/Desktop/aula/machine learning/projet/venv/lib/python3.7/site-packages/sklearn/linear_model/_sag.py:354: ConvergenceWarning: The max_iter was reached which means the coef_ did not converge\n",
      "  ConvergenceWarning,\n"
     ]
    },
    {
     "name": "stdout",
     "output_type": "stream",
     "text": [
      "LR-l2-saga-0.1: 0.775000 (0.407224) - 0.858333 (0.174005)\n"
     ]
    },
    {
     "name": "stderr",
     "output_type": "stream",
     "text": [
      "/home/giovani/Desktop/aula/machine learning/projet/venv/lib/python3.7/site-packages/sklearn/linear_model/_sag.py:354: ConvergenceWarning: The max_iter was reached which means the coef_ did not converge\n",
      "  ConvergenceWarning,\n",
      "/home/giovani/Desktop/aula/machine learning/projet/venv/lib/python3.7/site-packages/sklearn/linear_model/_sag.py:354: ConvergenceWarning: The max_iter was reached which means the coef_ did not converge\n",
      "  ConvergenceWarning,\n",
      "/home/giovani/Desktop/aula/machine learning/projet/venv/lib/python3.7/site-packages/sklearn/linear_model/_sag.py:354: ConvergenceWarning: The max_iter was reached which means the coef_ did not converge\n",
      "  ConvergenceWarning,\n",
      "/home/giovani/Desktop/aula/machine learning/projet/venv/lib/python3.7/site-packages/sklearn/linear_model/_sag.py:354: ConvergenceWarning: The max_iter was reached which means the coef_ did not converge\n",
      "  ConvergenceWarning,\n",
      "/home/giovani/Desktop/aula/machine learning/projet/venv/lib/python3.7/site-packages/sklearn/linear_model/_sag.py:354: ConvergenceWarning: The max_iter was reached which means the coef_ did not converge\n",
      "  ConvergenceWarning,\n"
     ]
    },
    {
     "name": "stdout",
     "output_type": "stream",
     "text": [
      "LR-l2-saga-0.5: 0.775000 (0.407224) - 0.858333 (0.174005)\n"
     ]
    },
    {
     "name": "stderr",
     "output_type": "stream",
     "text": [
      "/home/giovani/Desktop/aula/machine learning/projet/venv/lib/python3.7/site-packages/sklearn/linear_model/_sag.py:354: ConvergenceWarning: The max_iter was reached which means the coef_ did not converge\n",
      "  ConvergenceWarning,\n",
      "/home/giovani/Desktop/aula/machine learning/projet/venv/lib/python3.7/site-packages/sklearn/linear_model/_sag.py:354: ConvergenceWarning: The max_iter was reached which means the coef_ did not converge\n",
      "  ConvergenceWarning,\n",
      "/home/giovani/Desktop/aula/machine learning/projet/venv/lib/python3.7/site-packages/sklearn/linear_model/_sag.py:354: ConvergenceWarning: The max_iter was reached which means the coef_ did not converge\n",
      "  ConvergenceWarning,\n",
      "/home/giovani/Desktop/aula/machine learning/projet/venv/lib/python3.7/site-packages/sklearn/linear_model/_sag.py:354: ConvergenceWarning: The max_iter was reached which means the coef_ did not converge\n",
      "  ConvergenceWarning,\n",
      "/home/giovani/Desktop/aula/machine learning/projet/venv/lib/python3.7/site-packages/sklearn/linear_model/_sag.py:354: ConvergenceWarning: The max_iter was reached which means the coef_ did not converge\n",
      "  ConvergenceWarning,\n"
     ]
    },
    {
     "name": "stdout",
     "output_type": "stream",
     "text": [
      "LR-l2-saga-1: 0.775000 (0.407224) - 0.858333 (0.174005)\n"
     ]
    },
    {
     "name": "stderr",
     "output_type": "stream",
     "text": [
      "/home/giovani/Desktop/aula/machine learning/projet/venv/lib/python3.7/site-packages/sklearn/linear_model/_sag.py:354: ConvergenceWarning: The max_iter was reached which means the coef_ did not converge\n",
      "  ConvergenceWarning,\n",
      "/home/giovani/Desktop/aula/machine learning/projet/venv/lib/python3.7/site-packages/sklearn/linear_model/_sag.py:354: ConvergenceWarning: The max_iter was reached which means the coef_ did not converge\n",
      "  ConvergenceWarning,\n",
      "/home/giovani/Desktop/aula/machine learning/projet/venv/lib/python3.7/site-packages/sklearn/linear_model/_sag.py:354: ConvergenceWarning: The max_iter was reached which means the coef_ did not converge\n",
      "  ConvergenceWarning,\n",
      "/home/giovani/Desktop/aula/machine learning/projet/venv/lib/python3.7/site-packages/sklearn/linear_model/_sag.py:354: ConvergenceWarning: The max_iter was reached which means the coef_ did not converge\n",
      "  ConvergenceWarning,\n",
      "/home/giovani/Desktop/aula/machine learning/projet/venv/lib/python3.7/site-packages/sklearn/linear_model/_sag.py:354: ConvergenceWarning: The max_iter was reached which means the coef_ did not converge\n",
      "  ConvergenceWarning,\n"
     ]
    },
    {
     "name": "stdout",
     "output_type": "stream",
     "text": [
      "LR-l2-saga-5: 0.775000 (0.407224) - 0.858333 (0.174005)\n"
     ]
    },
    {
     "name": "stderr",
     "output_type": "stream",
     "text": [
      "/home/giovani/Desktop/aula/machine learning/projet/venv/lib/python3.7/site-packages/sklearn/linear_model/_sag.py:354: ConvergenceWarning: The max_iter was reached which means the coef_ did not converge\n",
      "  ConvergenceWarning,\n",
      "/home/giovani/Desktop/aula/machine learning/projet/venv/lib/python3.7/site-packages/sklearn/linear_model/_sag.py:354: ConvergenceWarning: The max_iter was reached which means the coef_ did not converge\n",
      "  ConvergenceWarning,\n",
      "/home/giovani/Desktop/aula/machine learning/projet/venv/lib/python3.7/site-packages/sklearn/linear_model/_sag.py:354: ConvergenceWarning: The max_iter was reached which means the coef_ did not converge\n",
      "  ConvergenceWarning,\n",
      "/home/giovani/Desktop/aula/machine learning/projet/venv/lib/python3.7/site-packages/sklearn/linear_model/_sag.py:354: ConvergenceWarning: The max_iter was reached which means the coef_ did not converge\n",
      "  ConvergenceWarning,\n",
      "/home/giovani/Desktop/aula/machine learning/projet/venv/lib/python3.7/site-packages/sklearn/linear_model/_sag.py:354: ConvergenceWarning: The max_iter was reached which means the coef_ did not converge\n",
      "  ConvergenceWarning,\n"
     ]
    },
    {
     "name": "stdout",
     "output_type": "stream",
     "text": [
      "LR-l2-saga-10: 0.775000 (0.407224) - 0.858333 (0.174005)\n"
     ]
    },
    {
     "name": "stderr",
     "output_type": "stream",
     "text": [
      "/home/giovani/Desktop/aula/machine learning/projet/venv/lib/python3.7/site-packages/sklearn/linear_model/_sag.py:354: ConvergenceWarning: The max_iter was reached which means the coef_ did not converge\n",
      "  ConvergenceWarning,\n",
      "/home/giovani/Desktop/aula/machine learning/projet/venv/lib/python3.7/site-packages/sklearn/linear_model/_sag.py:354: ConvergenceWarning: The max_iter was reached which means the coef_ did not converge\n",
      "  ConvergenceWarning,\n",
      "/home/giovani/Desktop/aula/machine learning/projet/venv/lib/python3.7/site-packages/sklearn/linear_model/_sag.py:354: ConvergenceWarning: The max_iter was reached which means the coef_ did not converge\n",
      "  ConvergenceWarning,\n",
      "/home/giovani/Desktop/aula/machine learning/projet/venv/lib/python3.7/site-packages/sklearn/linear_model/_sag.py:354: ConvergenceWarning: The max_iter was reached which means the coef_ did not converge\n",
      "  ConvergenceWarning,\n",
      "/home/giovani/Desktop/aula/machine learning/projet/venv/lib/python3.7/site-packages/sklearn/linear_model/_sag.py:354: ConvergenceWarning: The max_iter was reached which means the coef_ did not converge\n",
      "  ConvergenceWarning,\n"
     ]
    },
    {
     "name": "stdout",
     "output_type": "stream",
     "text": [
      "LR-l2-saga-50: 0.775000 (0.407224) - 0.858333 (0.174005)\n"
     ]
    },
    {
     "name": "stderr",
     "output_type": "stream",
     "text": [
      "/home/giovani/Desktop/aula/machine learning/projet/venv/lib/python3.7/site-packages/sklearn/linear_model/_sag.py:354: ConvergenceWarning: The max_iter was reached which means the coef_ did not converge\n",
      "  ConvergenceWarning,\n",
      "/home/giovani/Desktop/aula/machine learning/projet/venv/lib/python3.7/site-packages/sklearn/linear_model/_sag.py:354: ConvergenceWarning: The max_iter was reached which means the coef_ did not converge\n",
      "  ConvergenceWarning,\n",
      "/home/giovani/Desktop/aula/machine learning/projet/venv/lib/python3.7/site-packages/sklearn/linear_model/_sag.py:354: ConvergenceWarning: The max_iter was reached which means the coef_ did not converge\n",
      "  ConvergenceWarning,\n",
      "/home/giovani/Desktop/aula/machine learning/projet/venv/lib/python3.7/site-packages/sklearn/linear_model/_sag.py:354: ConvergenceWarning: The max_iter was reached which means the coef_ did not converge\n",
      "  ConvergenceWarning,\n",
      "/home/giovani/Desktop/aula/machine learning/projet/venv/lib/python3.7/site-packages/sklearn/linear_model/_sag.py:354: ConvergenceWarning: The max_iter was reached which means the coef_ did not converge\n",
      "  ConvergenceWarning,\n"
     ]
    },
    {
     "name": "stdout",
     "output_type": "stream",
     "text": [
      "LR-l2-saga-100: 0.775000 (0.407224) - 0.858333 (0.174005)\n"
     ]
    },
    {
     "name": "stderr",
     "output_type": "stream",
     "text": [
      "/home/giovani/Desktop/aula/machine learning/projet/venv/lib/python3.7/site-packages/sklearn/linear_model/_sag.py:354: ConvergenceWarning: The max_iter was reached which means the coef_ did not converge\n",
      "  ConvergenceWarning,\n",
      "/home/giovani/Desktop/aula/machine learning/projet/venv/lib/python3.7/site-packages/sklearn/linear_model/_sag.py:354: ConvergenceWarning: The max_iter was reached which means the coef_ did not converge\n",
      "  ConvergenceWarning,\n",
      "/home/giovani/Desktop/aula/machine learning/projet/venv/lib/python3.7/site-packages/sklearn/linear_model/_sag.py:354: ConvergenceWarning: The max_iter was reached which means the coef_ did not converge\n",
      "  ConvergenceWarning,\n"
     ]
    },
    {
     "name": "stdout",
     "output_type": "stream",
     "text": [
      "LR-l2-sag-0.1: 0.775000 (0.407224) - 0.858333 (0.174005)\n"
     ]
    },
    {
     "name": "stderr",
     "output_type": "stream",
     "text": [
      "/home/giovani/Desktop/aula/machine learning/projet/venv/lib/python3.7/site-packages/sklearn/linear_model/_sag.py:354: ConvergenceWarning: The max_iter was reached which means the coef_ did not converge\n",
      "  ConvergenceWarning,\n",
      "/home/giovani/Desktop/aula/machine learning/projet/venv/lib/python3.7/site-packages/sklearn/linear_model/_sag.py:354: ConvergenceWarning: The max_iter was reached which means the coef_ did not converge\n",
      "  ConvergenceWarning,\n",
      "/home/giovani/Desktop/aula/machine learning/projet/venv/lib/python3.7/site-packages/sklearn/linear_model/_sag.py:354: ConvergenceWarning: The max_iter was reached which means the coef_ did not converge\n",
      "  ConvergenceWarning,\n",
      "/home/giovani/Desktop/aula/machine learning/projet/venv/lib/python3.7/site-packages/sklearn/linear_model/_sag.py:354: ConvergenceWarning: The max_iter was reached which means the coef_ did not converge\n",
      "  ConvergenceWarning,\n"
     ]
    },
    {
     "name": "stdout",
     "output_type": "stream",
     "text": [
      "LR-l2-sag-0.5: 0.775000 (0.407224) - 0.858333 (0.174005)\n"
     ]
    },
    {
     "name": "stderr",
     "output_type": "stream",
     "text": [
      "/home/giovani/Desktop/aula/machine learning/projet/venv/lib/python3.7/site-packages/sklearn/linear_model/_sag.py:354: ConvergenceWarning: The max_iter was reached which means the coef_ did not converge\n",
      "  ConvergenceWarning,\n",
      "/home/giovani/Desktop/aula/machine learning/projet/venv/lib/python3.7/site-packages/sklearn/linear_model/_sag.py:354: ConvergenceWarning: The max_iter was reached which means the coef_ did not converge\n",
      "  ConvergenceWarning,\n",
      "/home/giovani/Desktop/aula/machine learning/projet/venv/lib/python3.7/site-packages/sklearn/linear_model/_sag.py:354: ConvergenceWarning: The max_iter was reached which means the coef_ did not converge\n",
      "  ConvergenceWarning,\n",
      "/home/giovani/Desktop/aula/machine learning/projet/venv/lib/python3.7/site-packages/sklearn/linear_model/_sag.py:354: ConvergenceWarning: The max_iter was reached which means the coef_ did not converge\n",
      "  ConvergenceWarning,\n",
      "/home/giovani/Desktop/aula/machine learning/projet/venv/lib/python3.7/site-packages/sklearn/linear_model/_sag.py:354: ConvergenceWarning: The max_iter was reached which means the coef_ did not converge\n",
      "  ConvergenceWarning,\n"
     ]
    },
    {
     "name": "stdout",
     "output_type": "stream",
     "text": [
      "LR-l2-sag-1: 0.775000 (0.407224) - 0.858333 (0.174005)\n"
     ]
    },
    {
     "name": "stderr",
     "output_type": "stream",
     "text": [
      "/home/giovani/Desktop/aula/machine learning/projet/venv/lib/python3.7/site-packages/sklearn/linear_model/_sag.py:354: ConvergenceWarning: The max_iter was reached which means the coef_ did not converge\n",
      "  ConvergenceWarning,\n",
      "/home/giovani/Desktop/aula/machine learning/projet/venv/lib/python3.7/site-packages/sklearn/linear_model/_sag.py:354: ConvergenceWarning: The max_iter was reached which means the coef_ did not converge\n",
      "  ConvergenceWarning,\n",
      "/home/giovani/Desktop/aula/machine learning/projet/venv/lib/python3.7/site-packages/sklearn/linear_model/_sag.py:354: ConvergenceWarning: The max_iter was reached which means the coef_ did not converge\n",
      "  ConvergenceWarning,\n",
      "/home/giovani/Desktop/aula/machine learning/projet/venv/lib/python3.7/site-packages/sklearn/linear_model/_sag.py:354: ConvergenceWarning: The max_iter was reached which means the coef_ did not converge\n",
      "  ConvergenceWarning,\n",
      "/home/giovani/Desktop/aula/machine learning/projet/venv/lib/python3.7/site-packages/sklearn/linear_model/_sag.py:354: ConvergenceWarning: The max_iter was reached which means the coef_ did not converge\n",
      "  ConvergenceWarning,\n"
     ]
    },
    {
     "name": "stdout",
     "output_type": "stream",
     "text": [
      "LR-l2-sag-5: 0.775000 (0.407224) - 0.858333 (0.174005)\n"
     ]
    },
    {
     "name": "stderr",
     "output_type": "stream",
     "text": [
      "/home/giovani/Desktop/aula/machine learning/projet/venv/lib/python3.7/site-packages/sklearn/linear_model/_sag.py:354: ConvergenceWarning: The max_iter was reached which means the coef_ did not converge\n",
      "  ConvergenceWarning,\n",
      "/home/giovani/Desktop/aula/machine learning/projet/venv/lib/python3.7/site-packages/sklearn/linear_model/_sag.py:354: ConvergenceWarning: The max_iter was reached which means the coef_ did not converge\n",
      "  ConvergenceWarning,\n",
      "/home/giovani/Desktop/aula/machine learning/projet/venv/lib/python3.7/site-packages/sklearn/linear_model/_sag.py:354: ConvergenceWarning: The max_iter was reached which means the coef_ did not converge\n",
      "  ConvergenceWarning,\n",
      "/home/giovani/Desktop/aula/machine learning/projet/venv/lib/python3.7/site-packages/sklearn/linear_model/_sag.py:354: ConvergenceWarning: The max_iter was reached which means the coef_ did not converge\n",
      "  ConvergenceWarning,\n",
      "/home/giovani/Desktop/aula/machine learning/projet/venv/lib/python3.7/site-packages/sklearn/linear_model/_sag.py:354: ConvergenceWarning: The max_iter was reached which means the coef_ did not converge\n",
      "  ConvergenceWarning,\n"
     ]
    },
    {
     "name": "stdout",
     "output_type": "stream",
     "text": [
      "LR-l2-sag-10: 0.775000 (0.407224) - 0.858333 (0.174005)\n"
     ]
    },
    {
     "name": "stderr",
     "output_type": "stream",
     "text": [
      "/home/giovani/Desktop/aula/machine learning/projet/venv/lib/python3.7/site-packages/sklearn/linear_model/_sag.py:354: ConvergenceWarning: The max_iter was reached which means the coef_ did not converge\n",
      "  ConvergenceWarning,\n",
      "/home/giovani/Desktop/aula/machine learning/projet/venv/lib/python3.7/site-packages/sklearn/linear_model/_sag.py:354: ConvergenceWarning: The max_iter was reached which means the coef_ did not converge\n",
      "  ConvergenceWarning,\n",
      "/home/giovani/Desktop/aula/machine learning/projet/venv/lib/python3.7/site-packages/sklearn/linear_model/_sag.py:354: ConvergenceWarning: The max_iter was reached which means the coef_ did not converge\n",
      "  ConvergenceWarning,\n",
      "/home/giovani/Desktop/aula/machine learning/projet/venv/lib/python3.7/site-packages/sklearn/linear_model/_sag.py:354: ConvergenceWarning: The max_iter was reached which means the coef_ did not converge\n",
      "  ConvergenceWarning,\n",
      "/home/giovani/Desktop/aula/machine learning/projet/venv/lib/python3.7/site-packages/sklearn/linear_model/_sag.py:354: ConvergenceWarning: The max_iter was reached which means the coef_ did not converge\n",
      "  ConvergenceWarning,\n"
     ]
    },
    {
     "name": "stdout",
     "output_type": "stream",
     "text": [
      "LR-l2-sag-50: 0.775000 (0.407224) - 0.858333 (0.174005)\n"
     ]
    },
    {
     "name": "stderr",
     "output_type": "stream",
     "text": [
      "/home/giovani/Desktop/aula/machine learning/projet/venv/lib/python3.7/site-packages/sklearn/linear_model/_sag.py:354: ConvergenceWarning: The max_iter was reached which means the coef_ did not converge\n",
      "  ConvergenceWarning,\n",
      "/home/giovani/Desktop/aula/machine learning/projet/venv/lib/python3.7/site-packages/sklearn/linear_model/_sag.py:354: ConvergenceWarning: The max_iter was reached which means the coef_ did not converge\n",
      "  ConvergenceWarning,\n",
      "/home/giovani/Desktop/aula/machine learning/projet/venv/lib/python3.7/site-packages/sklearn/linear_model/_sag.py:354: ConvergenceWarning: The max_iter was reached which means the coef_ did not converge\n",
      "  ConvergenceWarning,\n",
      "/home/giovani/Desktop/aula/machine learning/projet/venv/lib/python3.7/site-packages/sklearn/linear_model/_sag.py:354: ConvergenceWarning: The max_iter was reached which means the coef_ did not converge\n",
      "  ConvergenceWarning,\n",
      "/home/giovani/Desktop/aula/machine learning/projet/venv/lib/python3.7/site-packages/sklearn/linear_model/_sag.py:354: ConvergenceWarning: The max_iter was reached which means the coef_ did not converge\n",
      "  ConvergenceWarning,\n"
     ]
    },
    {
     "name": "stdout",
     "output_type": "stream",
     "text": [
      "LR-l2-sag-100: 0.775000 (0.407224) - 0.858333 (0.174005)\n",
      "LR-l2-newton-cg-0.1: 0.800000 (0.411775) - 0.858333 (0.174005)\n",
      "LR-l2-newton-cg-0.5: 0.800000 (0.411775) - 0.858333 (0.174005)\n",
      "LR-l2-newton-cg-1: 0.800000 (0.411775) - 0.858333 (0.174005)\n",
      "LR-l2-newton-cg-5: 0.800000 (0.411775) - 0.858333 (0.174005)\n",
      "LR-l2-newton-cg-10: 0.800000 (0.411775) - 0.858333 (0.174005)\n",
      "LR-l2-newton-cg-50: 0.800000 (0.411775) - 0.858333 (0.174005)\n",
      "LR-l2-newton-cg-100: 0.775000 (0.407224) - 0.858333 (0.174005)\n",
      "LR-l2-lbfgs-0.1: 0.800000 (0.411775) - 0.858333 (0.174005)\n",
      "LR-l2-lbfgs-0.5: 0.800000 (0.411775) - 0.858333 (0.174005)\n",
      "LR-l2-lbfgs-1: 0.800000 (0.411775) - 0.858333 (0.174005)\n",
      "LR-l2-lbfgs-5: 0.800000 (0.411775) - 0.858333 (0.174005)\n",
      "LR-l2-lbfgs-10: 0.800000 (0.411775) - 0.858333 (0.174005)\n",
      "LR-l2-lbfgs-50: 0.775000 (0.407224) - 0.858333 (0.174005)\n",
      "LR-l2-lbfgs-100: 0.775000 (0.407224) - 0.858333 (0.174005)\n",
      "SVM-linear-0.1: 0.800000 (0.411775) - 0.858333 (0.174005)\n",
      "SVM-linear-0.5: 0.800000 (0.411775) - 0.858333 (0.174005)\n",
      "SVM-linear-1: 0.800000 (0.411775) - 0.858333 (0.174005)\n",
      "SVM-linear-5: 0.800000 (0.411775) - 0.858333 (0.174005)\n",
      "SVM-linear-10: 0.800000 (0.411775) - 0.858333 (0.174005)\n",
      "SVM-linear-50: 0.800000 (0.411775) - 0.858333 (0.174005)\n",
      "SVM-linear-100: 0.800000 (0.411775) - 0.858333 (0.174005)\n",
      "SVM-rbf-0.1: 0.450000 (0.411775) - 0.566667 (0.360940)\n",
      "SVM-rbf-0.5: 0.600000 (0.223607) - 0.850000 (0.020412)\n",
      "SVM-rbf-1: 0.650000 (0.349964) - 0.700000 (0.203101)\n",
      "SVM-rbf-5: 0.775000 (0.407224) - 0.825000 (0.158990)\n",
      "SVM-rbf-10: 0.775000 (0.407224) - 0.825000 (0.158990)\n",
      "SVM-rbf-50: 0.775000 (0.407224) - 0.825000 (0.158990)\n",
      "SVM-rbf-100: 0.775000 (0.407224) - 0.825000 (0.158990)\n",
      "SVM-poly-0.1: 0.375000 (0.334370) - 0.516667 (0.358043)\n",
      "SVM-poly-0.5: 0.475000 (0.349964) - 0.658333 (0.312250)\n",
      "SVM-poly-1: 0.475000 (0.305845) - 0.750000 (0.316228)\n",
      "SVM-poly-5: 0.600000 (0.381803) - 0.950000 (0.100000)\n",
      "SVM-poly-10: 0.550000 (0.387298) - 0.900000 (0.122474)\n",
      "SVM-poly-50: 0.550000 (0.387298) - 0.850000 (0.200000)\n",
      "SVM-poly-100: 0.550000 (0.387298) - 0.850000 (0.200000)\n",
      "RF-50-2: 0.750000 (0.397635) - 0.858333 (0.138444)\n",
      "RF-50-4: 0.725000 (0.381803) - 0.850000 (0.183712)\n",
      "RF-50-6: 0.750000 (0.420448) - 0.808333 (0.177951)\n",
      "RF-50-8: 0.750000 (0.370041) - 0.875000 (0.158114)\n",
      "RF-50-10: 0.725000 (0.381803) - 0.791667 (0.178730)\n",
      "RF-100-2: 0.700000 (0.357037) - 0.783333 (0.142887)\n",
      "RF-100-4: 0.775000 (0.428616) - 0.841667 (0.145297)\n",
      "RF-100-6: 0.675000 (0.481498) - 0.775000 (0.235112)\n",
      "RF-100-8: 0.750000 (0.370041) - 0.875000 (0.158114)\n",
      "RF-100-10: 0.750000 (0.420448) - 0.850000 (0.183712)\n",
      "RF-200-2: 0.725000 (0.407224) - 0.808333 (0.122474)\n",
      "RF-200-4: 0.725000 (0.447214) - 0.775000 (0.200000)\n",
      "RF-200-6: 0.750000 (0.420448) - 0.783333 (0.142887)\n",
      "RF-200-8: 0.750000 (0.420448) - 0.783333 (0.177561)\n",
      "RF-200-10: 0.775000 (0.407224) - 0.841667 (0.145297)\n",
      "RF-500-2: 0.700000 (0.411775) - 0.766667 (0.179892)\n",
      "RF-500-4: 0.700000 (0.411775) - 0.775000 (0.133333)\n",
      "RF-500-6: 0.725000 (0.407224) - 0.725000 (0.148137)\n",
      "RF-500-8: 0.700000 (0.411775) - 0.750000 (0.146723)\n",
      "RF-500-10: 0.750000 (0.420448) - 0.791667 (0.200693)\n",
      "RF-1000-2: 0.675000 (0.432531) - 0.733333 (0.233631)\n",
      "RF-1000-4: 0.725000 (0.407224) - 0.775000 (0.133333)\n",
      "RF-1000-6: 0.800000 (0.411775) - 0.900000 (0.145774)\n",
      "RF-1000-8: 0.725000 (0.407224) - 0.775000 (0.133333)\n",
      "RF-1000-10: 0.775000 (0.407224) - 0.808333 (0.161589)\n"
     ]
    },
    {
     "name": "stderr",
     "output_type": "stream",
     "text": [
      "/home/giovani/Desktop/aula/machine learning/projet/venv/lib/python3.7/site-packages/sklearn/neural_network/_multilayer_perceptron.py:696: ConvergenceWarning: Stochastic Optimizer: Maximum iterations (200) reached and the optimization hasn't converged yet.\n",
      "  ConvergenceWarning,\n",
      "/home/giovani/Desktop/aula/machine learning/projet/venv/lib/python3.7/site-packages/sklearn/neural_network/_multilayer_perceptron.py:696: ConvergenceWarning: Stochastic Optimizer: Maximum iterations (200) reached and the optimization hasn't converged yet.\n",
      "  ConvergenceWarning,\n",
      "/home/giovani/Desktop/aula/machine learning/projet/venv/lib/python3.7/site-packages/sklearn/neural_network/_multilayer_perceptron.py:696: ConvergenceWarning: Stochastic Optimizer: Maximum iterations (200) reached and the optimization hasn't converged yet.\n",
      "  ConvergenceWarning,\n"
     ]
    },
    {
     "name": "stdout",
     "output_type": "stream",
     "text": [
      "MLP-(100,)-identity-0.1: 0.800000 (0.357037) - 0.883333 (0.121906)\n",
      "MLP-(100,)-identity-0.5: 0.700000 (0.357037) - 0.775000 (0.174005)\n",
      "MLP-(100,)-identity-1: 0.650000 (0.349964) - 0.791667 (0.134371)\n",
      "MLP-(100,)-identity-5: 0.750000 (0.420448) - 0.758333 (0.171594)\n",
      "MLP-(100,)-identity-10: 0.700000 (0.450667) - 0.658333 (0.236291)\n",
      "MLP-(100,)-identity-50: 0.450000 (0.411775) - 0.566667 (0.360940)\n"
     ]
    },
    {
     "name": "stderr",
     "output_type": "stream",
     "text": [
      "/home/giovani/Desktop/aula/machine learning/projet/venv/lib/python3.7/site-packages/sklearn/neural_network/_multilayer_perceptron.py:696: ConvergenceWarning: Stochastic Optimizer: Maximum iterations (200) reached and the optimization hasn't converged yet.\n",
      "  ConvergenceWarning,\n",
      "/home/giovani/Desktop/aula/machine learning/projet/venv/lib/python3.7/site-packages/sklearn/neural_network/_multilayer_perceptron.py:696: ConvergenceWarning: Stochastic Optimizer: Maximum iterations (200) reached and the optimization hasn't converged yet.\n",
      "  ConvergenceWarning,\n"
     ]
    },
    {
     "name": "stdout",
     "output_type": "stream",
     "text": [
      "MLP-(100,)-identity-100: 0.300000 (0.247462) - 0.225000 (0.140312)\n",
      "MLP-(100,)-logistic-0.1: 0.700000 (0.411775) - 0.825000 (0.158990)\n",
      "MLP-(100,)-logistic-0.5: 0.750000 (0.397635) - 0.825000 (0.158990)\n",
      "MLP-(100,)-logistic-1: 0.750000 (0.397635) - 0.833333 (0.120761)\n",
      "MLP-(100,)-logistic-5: 0.600000 (0.223607) - 0.850000 (0.020412)\n",
      "MLP-(100,)-logistic-10: 0.600000 (0.223607) - 0.833333 (0.045644)\n",
      "MLP-(100,)-logistic-50: 0.250000 (0.000000) - 0.350000 (0.183712)\n",
      "MLP-(100,)-logistic-100: 0.300000 (0.247462) - 0.225000 (0.140312)\n",
      "MLP-(100,)-tanh-0.1: 0.825000 (0.411775) - 0.891667 (0.148137)\n",
      "MLP-(100,)-tanh-0.5: 0.750000 (0.457346) - 0.791667 (0.271314)\n",
      "MLP-(100,)-tanh-1: 0.750000 (0.420448) - 0.841667 (0.145297)\n",
      "MLP-(100,)-tanh-5: 0.725000 (0.447214) - 0.858333 (0.138444)\n",
      "MLP-(100,)-tanh-10: 0.650000 (0.305845) - 0.800000 (0.088976)\n",
      "MLP-(100,)-tanh-50: 0.375000 (0.334370) - 0.533333 (0.334788)\n"
     ]
    },
    {
     "name": "stderr",
     "output_type": "stream",
     "text": [
      "/home/giovani/Desktop/aula/machine learning/projet/venv/lib/python3.7/site-packages/sklearn/neural_network/_multilayer_perceptron.py:696: ConvergenceWarning: Stochastic Optimizer: Maximum iterations (200) reached and the optimization hasn't converged yet.\n",
      "  ConvergenceWarning,\n",
      "/home/giovani/Desktop/aula/machine learning/projet/venv/lib/python3.7/site-packages/sklearn/neural_network/_multilayer_perceptron.py:696: ConvergenceWarning: Stochastic Optimizer: Maximum iterations (200) reached and the optimization hasn't converged yet.\n",
      "  ConvergenceWarning,\n",
      "/home/giovani/Desktop/aula/machine learning/projet/venv/lib/python3.7/site-packages/sklearn/neural_network/_multilayer_perceptron.py:696: ConvergenceWarning: Stochastic Optimizer: Maximum iterations (200) reached and the optimization hasn't converged yet.\n",
      "  ConvergenceWarning,\n",
      "/home/giovani/Desktop/aula/machine learning/projet/venv/lib/python3.7/site-packages/sklearn/neural_network/_multilayer_perceptron.py:696: ConvergenceWarning: Stochastic Optimizer: Maximum iterations (200) reached and the optimization hasn't converged yet.\n",
      "  ConvergenceWarning,\n"
     ]
    },
    {
     "name": "stdout",
     "output_type": "stream",
     "text": [
      "MLP-(100,)-tanh-100: 0.300000 (0.247462) - 0.225000 (0.140312)\n",
      "MLP-(100,)-relu-0.1: 0.700000 (0.411775) - 0.883333 (0.100000)\n",
      "MLP-(100,)-relu-0.5: 0.625000 (0.420448) - 0.741667 (0.258736)\n",
      "MLP-(100,)-relu-1: 0.725000 (0.447214) - 0.758333 (0.253311)\n",
      "MLP-(100,)-relu-5: 0.800000 (0.411775) - 0.900000 (0.145774)\n",
      "MLP-(100,)-relu-10: 0.675000 (0.357037) - 0.775000 (0.229129)\n",
      "MLP-(100,)-relu-50: 0.275000 (0.223607) - 0.287500 (0.175000)\n"
     ]
    },
    {
     "name": "stderr",
     "output_type": "stream",
     "text": [
      "/home/giovani/Desktop/aula/machine learning/projet/venv/lib/python3.7/site-packages/sklearn/neural_network/_multilayer_perceptron.py:696: ConvergenceWarning: Stochastic Optimizer: Maximum iterations (200) reached and the optimization hasn't converged yet.\n",
      "  ConvergenceWarning,\n",
      "/home/giovani/Desktop/aula/machine learning/projet/venv/lib/python3.7/site-packages/sklearn/neural_network/_multilayer_perceptron.py:696: ConvergenceWarning: Stochastic Optimizer: Maximum iterations (200) reached and the optimization hasn't converged yet.\n",
      "  ConvergenceWarning,\n",
      "/home/giovani/Desktop/aula/machine learning/projet/venv/lib/python3.7/site-packages/sklearn/neural_network/_multilayer_perceptron.py:696: ConvergenceWarning: Stochastic Optimizer: Maximum iterations (200) reached and the optimization hasn't converged yet.\n",
      "  ConvergenceWarning,\n"
     ]
    },
    {
     "name": "stdout",
     "output_type": "stream",
     "text": [
      "MLP-(100,)-relu-100: 0.275000 (0.223607) - 0.287500 (0.175000)\n"
     ]
    },
    {
     "name": "stderr",
     "output_type": "stream",
     "text": [
      "/home/giovani/Desktop/aula/machine learning/projet/venv/lib/python3.7/site-packages/sklearn/neural_network/_multilayer_perceptron.py:696: ConvergenceWarning: Stochastic Optimizer: Maximum iterations (200) reached and the optimization hasn't converged yet.\n",
      "  ConvergenceWarning,\n",
      "/home/giovani/Desktop/aula/machine learning/projet/venv/lib/python3.7/site-packages/sklearn/neural_network/_multilayer_perceptron.py:696: ConvergenceWarning: Stochastic Optimizer: Maximum iterations (200) reached and the optimization hasn't converged yet.\n",
      "  ConvergenceWarning,\n"
     ]
    },
    {
     "name": "stdout",
     "output_type": "stream",
     "text": [
      "MLP-(100, 100)-identity-0.1: 0.800000 (0.357037) - 0.825000 (0.113039)\n",
      "MLP-(100, 100)-identity-0.5: 0.575000 (0.316228) - 0.641667 (0.185592)\n",
      "MLP-(100, 100)-identity-1: 0.775000 (0.381803) - 0.800000 (0.171594)\n",
      "MLP-(100, 100)-identity-5: 0.650000 (0.223607) - 0.850000 (0.020412)\n"
     ]
    },
    {
     "name": "stderr",
     "output_type": "stream",
     "text": [
      "/home/giovani/Desktop/aula/machine learning/projet/venv/lib/python3.7/site-packages/sklearn/neural_network/_multilayer_perceptron.py:696: ConvergenceWarning: Stochastic Optimizer: Maximum iterations (200) reached and the optimization hasn't converged yet.\n",
      "  ConvergenceWarning,\n",
      "/home/giovani/Desktop/aula/machine learning/projet/venv/lib/python3.7/site-packages/sklearn/neural_network/_multilayer_perceptron.py:696: ConvergenceWarning: Stochastic Optimizer: Maximum iterations (200) reached and the optimization hasn't converged yet.\n",
      "  ConvergenceWarning,\n",
      "/home/giovani/Desktop/aula/machine learning/projet/venv/lib/python3.7/site-packages/sklearn/neural_network/_multilayer_perceptron.py:696: ConvergenceWarning: Stochastic Optimizer: Maximum iterations (200) reached and the optimization hasn't converged yet.\n",
      "  ConvergenceWarning,\n",
      "/home/giovani/Desktop/aula/machine learning/projet/venv/lib/python3.7/site-packages/sklearn/neural_network/_multilayer_perceptron.py:696: ConvergenceWarning: Stochastic Optimizer: Maximum iterations (200) reached and the optimization hasn't converged yet.\n",
      "  ConvergenceWarning,\n"
     ]
    },
    {
     "name": "stdout",
     "output_type": "stream",
     "text": [
      "MLP-(100, 100)-identity-10: 0.300000 (0.247462) - 0.225000 (0.140312)\n"
     ]
    },
    {
     "name": "stderr",
     "output_type": "stream",
     "text": [
      "/home/giovani/Desktop/aula/machine learning/projet/venv/lib/python3.7/site-packages/sklearn/neural_network/_multilayer_perceptron.py:696: ConvergenceWarning: Stochastic Optimizer: Maximum iterations (200) reached and the optimization hasn't converged yet.\n",
      "  ConvergenceWarning,\n",
      "/home/giovani/Desktop/aula/machine learning/projet/venv/lib/python3.7/site-packages/sklearn/neural_network/_multilayer_perceptron.py:696: ConvergenceWarning: Stochastic Optimizer: Maximum iterations (200) reached and the optimization hasn't converged yet.\n",
      "  ConvergenceWarning,\n",
      "/home/giovani/Desktop/aula/machine learning/projet/venv/lib/python3.7/site-packages/sklearn/neural_network/_multilayer_perceptron.py:696: ConvergenceWarning: Stochastic Optimizer: Maximum iterations (200) reached and the optimization hasn't converged yet.\n",
      "  ConvergenceWarning,\n"
     ]
    },
    {
     "name": "stdout",
     "output_type": "stream",
     "text": [
      "MLP-(100, 100)-identity-50: 0.300000 (0.247462) - 0.225000 (0.140312)\n"
     ]
    },
    {
     "name": "stderr",
     "output_type": "stream",
     "text": [
      "/home/giovani/Desktop/aula/machine learning/projet/venv/lib/python3.7/site-packages/sklearn/neural_network/_multilayer_perceptron.py:696: ConvergenceWarning: Stochastic Optimizer: Maximum iterations (200) reached and the optimization hasn't converged yet.\n",
      "  ConvergenceWarning,\n",
      "/home/giovani/Desktop/aula/machine learning/projet/venv/lib/python3.7/site-packages/sklearn/neural_network/_multilayer_perceptron.py:696: ConvergenceWarning: Stochastic Optimizer: Maximum iterations (200) reached and the optimization hasn't converged yet.\n",
      "  ConvergenceWarning,\n",
      "/home/giovani/Desktop/aula/machine learning/projet/venv/lib/python3.7/site-packages/sklearn/neural_network/_multilayer_perceptron.py:696: ConvergenceWarning: Stochastic Optimizer: Maximum iterations (200) reached and the optimization hasn't converged yet.\n",
      "  ConvergenceWarning,\n",
      "/home/giovani/Desktop/aula/machine learning/projet/venv/lib/python3.7/site-packages/sklearn/neural_network/_multilayer_perceptron.py:696: ConvergenceWarning: Stochastic Optimizer: Maximum iterations (200) reached and the optimization hasn't converged yet.\n",
      "  ConvergenceWarning,\n",
      "/home/giovani/Desktop/aula/machine learning/projet/venv/lib/python3.7/site-packages/sklearn/neural_network/_multilayer_perceptron.py:696: ConvergenceWarning: Stochastic Optimizer: Maximum iterations (200) reached and the optimization hasn't converged yet.\n",
      "  ConvergenceWarning,\n"
     ]
    },
    {
     "name": "stdout",
     "output_type": "stream",
     "text": [
      "MLP-(100, 100)-identity-100: 0.275000 (0.223607) - 0.287500 (0.175000)\n",
      "MLP-(100, 100)-logistic-0.1: 0.850000 (0.381803) - 0.916667 (0.105409)\n",
      "MLP-(100, 100)-logistic-0.5: 0.550000 (0.247462) - 0.650000 (0.259005)\n",
      "MLP-(100, 100)-logistic-1: 0.300000 (0.316228) - 0.416667 (0.267447)\n",
      "MLP-(100, 100)-logistic-5: 0.325000 (0.247462) - 0.162500 (0.030619)\n",
      "MLP-(100, 100)-logistic-10: 0.275000 (0.223607) - 0.287500 (0.175000)\n",
      "MLP-(100, 100)-logistic-50: 0.325000 (0.247462) - 0.162500 (0.030619)\n",
      "MLP-(100, 100)-logistic-100: 0.275000 (0.223607) - 0.287500 (0.175000)\n",
      "MLP-(100, 100)-tanh-0.1: 0.850000 (0.428616) - 0.925000 (0.150000)\n",
      "MLP-(100, 100)-tanh-0.5: 0.650000 (0.349964) - 0.683333 (0.238048)\n",
      "MLP-(100, 100)-tanh-1: 0.825000 (0.411775) - 0.866667 (0.171594)\n",
      "MLP-(100, 100)-tanh-5: 0.600000 (0.223607) - 0.850000 (0.020412)\n",
      "MLP-(100, 100)-tanh-10: 0.300000 (0.247462) - 0.225000 (0.140312)\n"
     ]
    },
    {
     "name": "stderr",
     "output_type": "stream",
     "text": [
      "/home/giovani/Desktop/aula/machine learning/projet/venv/lib/python3.7/site-packages/sklearn/neural_network/_multilayer_perceptron.py:696: ConvergenceWarning: Stochastic Optimizer: Maximum iterations (200) reached and the optimization hasn't converged yet.\n",
      "  ConvergenceWarning,\n",
      "/home/giovani/Desktop/aula/machine learning/projet/venv/lib/python3.7/site-packages/sklearn/neural_network/_multilayer_perceptron.py:696: ConvergenceWarning: Stochastic Optimizer: Maximum iterations (200) reached and the optimization hasn't converged yet.\n",
      "  ConvergenceWarning,\n"
     ]
    },
    {
     "name": "stdout",
     "output_type": "stream",
     "text": [
      "MLP-(100, 100)-tanh-50: 0.325000 (0.247462) - 0.162500 (0.030619)\n"
     ]
    },
    {
     "name": "stderr",
     "output_type": "stream",
     "text": [
      "/home/giovani/Desktop/aula/machine learning/projet/venv/lib/python3.7/site-packages/sklearn/neural_network/_multilayer_perceptron.py:696: ConvergenceWarning: Stochastic Optimizer: Maximum iterations (200) reached and the optimization hasn't converged yet.\n",
      "  ConvergenceWarning,\n",
      "/home/giovani/Desktop/aula/machine learning/projet/venv/lib/python3.7/site-packages/sklearn/neural_network/_multilayer_perceptron.py:696: ConvergenceWarning: Stochastic Optimizer: Maximum iterations (200) reached and the optimization hasn't converged yet.\n",
      "  ConvergenceWarning,\n",
      "/home/giovani/Desktop/aula/machine learning/projet/venv/lib/python3.7/site-packages/sklearn/neural_network/_multilayer_perceptron.py:696: ConvergenceWarning: Stochastic Optimizer: Maximum iterations (200) reached and the optimization hasn't converged yet.\n",
      "  ConvergenceWarning,\n"
     ]
    },
    {
     "name": "stdout",
     "output_type": "stream",
     "text": [
      "MLP-(100, 100)-tanh-100: 0.300000 (0.247462) - 0.225000 (0.140312)\n",
      "MLP-(100, 100)-relu-0.1: 0.750000 (0.420448) - 0.835000 (0.184120)\n",
      "MLP-(100, 100)-relu-0.5: 0.725000 (0.407224) - 0.800000 (0.203101)\n",
      "MLP-(100, 100)-relu-1: 0.725000 (0.407224) - 0.858333 (0.174005)\n",
      "MLP-(100, 100)-relu-5: 0.600000 (0.223607) - 0.850000 (0.020412)\n"
     ]
    },
    {
     "name": "stderr",
     "output_type": "stream",
     "text": [
      "/home/giovani/Desktop/aula/machine learning/projet/venv/lib/python3.7/site-packages/sklearn/neural_network/_multilayer_perceptron.py:696: ConvergenceWarning: Stochastic Optimizer: Maximum iterations (200) reached and the optimization hasn't converged yet.\n",
      "  ConvergenceWarning,\n"
     ]
    },
    {
     "name": "stdout",
     "output_type": "stream",
     "text": [
      "MLP-(100, 100)-relu-10: 0.300000 (0.247462) - 0.225000 (0.140312)\n"
     ]
    },
    {
     "name": "stderr",
     "output_type": "stream",
     "text": [
      "/home/giovani/Desktop/aula/machine learning/projet/venv/lib/python3.7/site-packages/sklearn/neural_network/_multilayer_perceptron.py:696: ConvergenceWarning: Stochastic Optimizer: Maximum iterations (200) reached and the optimization hasn't converged yet.\n",
      "  ConvergenceWarning,\n",
      "/home/giovani/Desktop/aula/machine learning/projet/venv/lib/python3.7/site-packages/sklearn/neural_network/_multilayer_perceptron.py:696: ConvergenceWarning: Stochastic Optimizer: Maximum iterations (200) reached and the optimization hasn't converged yet.\n",
      "  ConvergenceWarning,\n"
     ]
    },
    {
     "name": "stdout",
     "output_type": "stream",
     "text": [
      "MLP-(100, 100)-relu-50: 0.300000 (0.247462) - 0.225000 (0.140312)\n"
     ]
    },
    {
     "name": "stderr",
     "output_type": "stream",
     "text": [
      "/home/giovani/Desktop/aula/machine learning/projet/venv/lib/python3.7/site-packages/sklearn/neural_network/_multilayer_perceptron.py:696: ConvergenceWarning: Stochastic Optimizer: Maximum iterations (200) reached and the optimization hasn't converged yet.\n",
      "  ConvergenceWarning,\n"
     ]
    },
    {
     "name": "stdout",
     "output_type": "stream",
     "text": [
      "MLP-(100, 100)-relu-100: 0.325000 (0.247462) - 0.162500 (0.030619)\n"
     ]
    },
    {
     "name": "stderr",
     "output_type": "stream",
     "text": [
      "/home/giovani/Desktop/aula/machine learning/projet/venv/lib/python3.7/site-packages/sklearn/neural_network/_multilayer_perceptron.py:696: ConvergenceWarning: Stochastic Optimizer: Maximum iterations (200) reached and the optimization hasn't converged yet.\n",
      "  ConvergenceWarning,\n",
      "/home/giovani/Desktop/aula/machine learning/projet/venv/lib/python3.7/site-packages/sklearn/neural_network/_multilayer_perceptron.py:696: ConvergenceWarning: Stochastic Optimizer: Maximum iterations (200) reached and the optimization hasn't converged yet.\n",
      "  ConvergenceWarning,\n",
      "/home/giovani/Desktop/aula/machine learning/projet/venv/lib/python3.7/site-packages/sklearn/neural_network/_multilayer_perceptron.py:696: ConvergenceWarning: Stochastic Optimizer: Maximum iterations (200) reached and the optimization hasn't converged yet.\n",
      "  ConvergenceWarning,\n"
     ]
    },
    {
     "name": "stdout",
     "output_type": "stream",
     "text": [
      "MLP-(100, 100, 100)-identity-0.1: 0.775000 (0.381803) - 0.760000 (0.213073)\n",
      "MLP-(100, 100, 100)-identity-0.5: 0.725000 (0.305845) - 0.816667 (0.110554)\n"
     ]
    }
   ],
   "source": [
    "from collections import defaultdict\n",
    "import numpy as np\n",
    "from sklearn.linear_model import LogisticRegression\n",
    "from sklearn.svm import SVC\n",
    "from sklearn.ensemble import RandomForestClassifier\n",
    "from sklearn.neural_network import MLPClassifier\n",
    "from sklearn.metrics import accuracy_score, classification_report, confusion_matrix\n",
    "from sklearn.model_selection import cross_val_score, GridSearchCV, cross_val_predict, StratifiedKFold\n",
    "from math import sqrt\n",
    "\n",
    "models = []\n",
    "# On a plusieurs parameters par mdéle mais on va essayer de optimizer que les paraméters plus importantes\n",
    "for penalty in [\"l1\",\"l2\"]:\n",
    "    for solver in [\"saga\",\"sag\",\"newton-cg\",\"lbfgs\"]:\n",
    "        for C in [0.1,0.5,1,5,10,50,100]:\n",
    "            if penalty == \"l1\" and solver in [\"newton-cg\",\"lbfgs\",\"sag\"]: # not supported\n",
    "                continue\n",
    "            else:\n",
    "                models.append(((f'LR-{penalty}-{solver}-{C}'),LogisticRegression(penalty=penalty,C=C,max_iter=500,solver=solver)))\n",
    "\n",
    "for kernel in [\"linear\",\"rbf\",\"poly\"]:\n",
    "    for C in [0.1,0.5,1,5,10,50,100]:\n",
    "        models.append(((f'SVM-{kernel}-{C}'),SVC(kernel=kernel,C=C,max_iter=500)))\n",
    "\n",
    "for n_estimators in [50,100,200,500,1000]:\n",
    "    for max_depth in [2,4,6,8,10]:\n",
    "        models.append(((f'RF-{n_estimators}-{max_depth}'),RandomForestClassifier(n_estimators=n_estimators,max_depth=max_depth)))\n",
    "\n",
    "for hidden_layer_sizes in [(100,),(100,100),(100,100,100),(100,100,100,100)]:\n",
    "    for activation in [\"identity\",\"logistic\",\"tanh\",\"relu\"]:\n",
    "        for alpha in [0.1,0.5,1,5,10,50,100]:\n",
    "            models.append(((f'MLP-{hidden_layer_sizes}-{activation}-{alpha}'),MLPClassifier(hidden_layer_sizes=hidden_layer_sizes,activation=activation,alpha=alpha, batch_size=3)))\n",
    "\n",
    "results = {}\n",
    "names = []\n",
    "n_classes = 4\n",
    "for name, model in models:\n",
    "    # Manual Stratified K-Fold pour avoir plus de controle et tous les metriques\n",
    "    accuracy_list = []\n",
    "    class_results = defaultdict(lambda: defaultdict(list))\n",
    "    kf = StratifiedKFold(n_splits=5, random_state=random_state, shuffle=True).split(X_train, y_train)\n",
    "    for train_index, test_index in kf:\n",
    "\n",
    "        X_train_fold, X_test_fold = X_train[train_index], X_train[test_index]\n",
    "        y_train_fold, y_test_fold = y_train[train_index], y_train[test_index]\n",
    "\n",
    "        model.fit(X_train_fold, y_train_fold)\n",
    "        predict = model.predict(X_test_fold)\n",
    "        # Fonction facile pour faire la precision et recall (et f1) de chaque class\n",
    "        class_report = classification_report(y_test_fold, predict,zero_division=0,output_dict=True)\n",
    "        for i in range(n_classes):\n",
    "            class_results[i+1]['precision'].append(class_report[str(i+1)]['precision'])\n",
    "            class_results[i+1]['recall'].append(class_report[str(i+1)]['recall'])\n",
    "            class_results[i+1]['f1-score'].append(class_report[str(i+1)]['f1-score'])\n",
    "            class_results[i+1]['support'].append(class_report[str(i+1)]['support'])\n",
    "        accuracy_list.append(class_report['accuracy'])\n",
    "\n",
    "    custom_metric_array = (np.array(class_results[1]['precision'] )+ np.array(class_results[4]['recall']))/2\n",
    "    custom_metric = np.mean(custom_metric_array)\n",
    "    custom_metric_std = np.std(custom_metric_array)\n",
    "    for i in range(1,n_classes+1):\n",
    "        class_results[i]['precision'] = sum(class_results[i]['precision']) / len(class_results[i]['precision'])\n",
    "        class_results[i]['recall'] = sum(class_results[i]['recall']) / len(class_results[i]['recall'])\n",
    "        class_results[i]['f1-score'] = sum(class_results[i]['f1-score']) / len(class_results[i]['f1-score'])\n",
    "         # support au cass où on veut weighted\n",
    "    total_accuracy = sum(accuracy_list) / len(accuracy_list)\n",
    "    std_accuracy = np.std(accuracy_list)\n",
    "\n",
    "    results[model] = {\"class_results\":class_results, \"accuracy\":total_accuracy, \"std_accuracy\":std_accuracy, \"custom_metric\":custom_metric,\"custom_metric_std\":custom_metric_std}\n",
    "    print('%s: %f (%f) - %f (%f)' % (name, total_accuracy, sqrt(std_accuracy),custom_metric,custom_metric_std))\n"
   ]
  },
  {
   "cell_type": "code",
   "execution_count": null,
   "metadata": {},
   "outputs": [],
   "source": [
    "results"
   ]
  },
  {
   "cell_type": "code",
   "execution_count": null,
   "metadata": {},
   "outputs": [],
   "source": [
    "Regarder les coeff = 0 dans LR et SVM... Aprés, pour les sous echantillonage c'est seulement regarder le modéle pour chaque k-fold"
   ]
  }
 ],
 "metadata": {
  "interpreter": {
   "hash": "c2c5d815ec1fe03f9c56d61fe27b8ffe51143b3b44a5b00413fd120b13315193"
  },
  "kernelspec": {
   "display_name": "Python 3.7.9 64-bit ('venv': venv)",
   "name": "python3"
  },
  "language_info": {
   "codemirror_mode": {
    "name": "ipython",
    "version": 3
   },
   "file_extension": ".py",
   "mimetype": "text/x-python",
   "name": "python",
   "nbconvert_exporter": "python",
   "pygments_lexer": "ipython3",
   "version": "3.7.9"
  }
 },
 "nbformat": 4,
 "nbformat_minor": 5
}
